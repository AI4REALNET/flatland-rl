{
 "cells": [
  {
   "cell_type": "markdown",
   "metadata": {},
   "source": [
    "# Test Collisions\n",
    "A visual test of a \"rear-shunt\" collision, to ensure that the agent does not get marked as collided permananently."
   ]
  },
  {
   "cell_type": "code",
   "execution_count": 1,
   "metadata": {},
   "outputs": [
    {
     "data": {
      "text/html": [
       "<style>.container { width:95% !important; }</style>"
      ],
      "text/plain": [
       "<IPython.core.display.HTML object>"
      ]
     },
     "metadata": {},
     "output_type": "display_data"
    }
   ],
   "source": [
    "%load_ext autoreload\n",
    "%autoreload 2\n",
    "from IPython.core import display \n",
    "display.display(display.HTML(\"<style>.container { width:95% !important; }</style>\"))"
   ]
  },
  {
   "cell_type": "code",
   "execution_count": 2,
   "metadata": {},
   "outputs": [],
   "source": [
    "import PIL\n",
    "from IPython import display\n",
    "from ipycanvas import canvas\n",
    "import time"
   ]
  },
  {
   "cell_type": "code",
   "execution_count": 3,
   "metadata": {},
   "outputs": [],
   "source": [
    "from flatland.envs import malfunction_generators as malgen\n",
    "from flatland.envs.agent_utils import EnvAgent\n",
    "#from flatland.envs import sparse_rail_gen as spgen\n",
    "from flatland.envs import rail_generators as rail_gen\n",
    "from flatland.envs import agent_chains as ac\n",
    "from flatland.envs.rail_env import RailEnv, RailEnvActions\n",
    "from flatland.envs.persistence import RailEnvPersister\n",
    "from flatland.utils.rendertools import RenderTool\n",
    "from flatland.utils import env_edit_utils as eeu\n",
    "from flatland.utils import jupyter_utils as ju"
   ]
  },
  {
   "cell_type": "code",
   "execution_count": 4,
   "metadata": {},
   "outputs": [
    {
     "name": "stdout",
     "output_type": "stream",
     "text": [
      "UCF: False\n"
     ]
    },
    {
     "data": {
      "application/vnd.jupyter.widget-view+json": {
       "model_id": "05c64c7cfb3e4dba9057c0d0787223d9",
       "version_major": 2,
       "version_minor": 0
      },
      "text/plain": [
       "Canvas(layout=Layout(height='300px', width='600px'), size=(600, 300))"
      ]
     },
     "metadata": {},
     "output_type": "display_data"
    }
   ],
   "source": [
    "nAg=2\n",
    "bUCF=False\n",
    "bReverseStart=False\n",
    "env, envModel = eeu.makeTestEnv(sName=\"merging_spurs\", nAg=nAg, bUCF=bUCF)\n",
    "oRT = RenderTool(env, show_debug=True)\n",
    "oRT.render_env(show_rowcols=True,  show_inactive_agents=True, show_observations=False)\n",
    "oCan = canvas.Canvas(size=(600,300))\n",
    "oCan.put_image_data(oRT.get_image())\n",
    "print(f\"UCF: {bUCF}\")\n",
    "display.display(oCan)\n",
    "\n",
    "\n",
    "iPauseStep=10\n",
    "iPauseLen = 5\n",
    "\n",
    "for iStep in range(25):\n",
    "    \n",
    "    if bReverseStart:\n",
    "        iAgentStart = max((nAg - 2 - iStep*2), 0)\n",
    "    else:\n",
    "        iAgentStart = 0\n",
    "    dActions = { i:int(RailEnvActions.MOVE_FORWARD) for i in range(iAgentStart, len(env.agents)) }\n",
    "    \n",
    "    if (iStep >= iPauseStep) and (iStep < iPauseStep + iPauseLen):\n",
    "        dActions[0] = RailEnvActions.STOP_MOVING\n",
    "        \n",
    "    #print(dActions)\n",
    "    \n",
    "    env.step(dActions)\n",
    "    \n",
    "    oRT.render_env(show_rowcols=True,  show_inactive_agents=True, show_observations=False)\n",
    "    \n",
    "    aImg = oRT.get_image()\n",
    "    pilImg = PIL.Image.fromarray(aImg)\n",
    "    oCan.put_image_data(aImg)\n",
    "    #with open(f\"tmp-images/img-{iStep:03d}.png\", \"wb\") as fImg:\n",
    "    #    pilImg.save(fImg)\n",
    "    \n",
    "    time.sleep(0.05)"
   ]
  },
  {
   "cell_type": "code",
   "execution_count": 5,
   "metadata": {},
   "outputs": [],
   "source": [
    "#!ffmpeg -i ./tmp-images/img-%03d.png -vcodec mpeg4 -filter:v \"setpts=8.0*PTS\" -y movie_nucf_stop.mp4"
   ]
  },
  {
   "cell_type": "code",
   "execution_count": 8,
   "metadata": {},
   "outputs": [
    {
     "data": {
      "application/vnd.jupyter.widget-view+json": {
       "model_id": "47677058c61e4c71bf23d56e80bc88d3",
       "version_major": 2,
       "version_minor": 0
      },
      "text/plain": [
       "Canvas(layout=Layout(height='300px', width='600px'), size=(600, 300))"
      ]
     },
     "metadata": {},
     "output_type": "display_data"
    }
   ],
   "source": [
    "oEC = ju.EnvCanvas(env)\n",
    "env.reset(regenerate_rail=False)\n",
    "oEC.show()"
   ]
  },
  {
   "cell_type": "code",
   "execution_count": 41,
   "metadata": {},
   "outputs": [],
   "source": [
    "oEC.step()\n",
    "oEC.render()"
   ]
  }
 ],
 "metadata": {
  "hide_input": false,
  "kernelspec": {
   "display_name": "Python 3",
   "language": "python",
   "name": "python3"
  },
  "language_info": {
   "codemirror_mode": {
    "name": "ipython",
    "version": 3
   },
   "file_extension": ".py",
   "mimetype": "text/x-python",
   "name": "python",
   "nbconvert_exporter": "python",
   "pygments_lexer": "ipython3",
   "version": "3.6.7"
  },
  "latex_envs": {
   "LaTeX_envs_menu_present": true,
   "autoclose": false,
   "autocomplete": true,
   "bibliofile": "biblio.bib",
   "cite_by": "apalike",
   "current_citInitial": 1,
   "eqLabelWithNumbers": true,
   "eqNumInitial": 1,
   "hotkeys": {
    "equation": "Ctrl-E",
    "itemize": "Ctrl-I"
   },
   "labels_anchors": false,
   "latex_user_defs": false,
   "report_style_numbering": false,
   "user_envs_cfg": false
  },
  "toc": {
   "base_numbering": 1,
   "nav_menu": {},
   "number_sections": true,
   "sideBar": true,
   "skip_h1_title": false,
   "title_cell": "Table of Contents",
   "title_sidebar": "Contents",
   "toc_cell": false,
   "toc_position": {},
   "toc_section_display": true,
   "toc_window_display": false
  },
  "varInspector": {
   "cols": {
    "lenName": 16,
    "lenType": 16,
    "lenVar": 40
   },
   "kernels_config": {
    "python": {
     "delete_cmd_postfix": "",
     "delete_cmd_prefix": "del ",
     "library": "var_list.py",
     "varRefreshCmd": "print(var_dic_list())"
    },
    "r": {
     "delete_cmd_postfix": ") ",
     "delete_cmd_prefix": "rm(",
     "library": "var_list.r",
     "varRefreshCmd": "cat(var_dic_list()) "
    }
   },
   "types_to_exclude": [
    "module",
    "function",
    "builtin_function_or_method",
    "instance",
    "_Feature"
   ],
   "window_display": false
  }
 },
 "nbformat": 4,
 "nbformat_minor": 2
}
