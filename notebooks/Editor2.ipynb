{
 "cells": [
  {
   "cell_type": "markdown",
   "metadata": {},
   "source": [
    "# Rail Editor v0.2"
   ]
  },
  {
   "cell_type": "code",
   "execution_count": 1,
   "metadata": {},
   "outputs": [],
   "source": [
    "%load_ext autoreload\n",
    "%autoreload 2"
   ]
  },
  {
   "cell_type": "code",
   "execution_count": 2,
   "metadata": {},
   "outputs": [],
   "source": [
    "import numpy as np\n",
    "from numpy import array\n",
    "import ipywidgets\n",
    "import IPython\n",
    "from IPython.core.display import display, HTML"
   ]
  },
  {
   "cell_type": "code",
   "execution_count": 3,
   "metadata": {},
   "outputs": [
    {
     "data": {
      "text/html": [
       "<style>.container { width:95% !important; }</style>"
      ],
      "text/plain": [
       "<IPython.core.display.HTML object>"
      ]
     },
     "metadata": {},
     "output_type": "display_data"
    }
   ],
   "source": [
    "display(HTML(\"<style>.container { width:95% !important; }</style>\"))"
   ]
  },
  {
   "cell_type": "code",
   "execution_count": 4,
   "metadata": {},
   "outputs": [
    {
     "name": "stdout",
     "output_type": "stream",
     "text": [
      "cairo installed: OK\n"
     ]
    }
   ],
   "source": [
    "from flatland.utils.editor import EditorMVC, EditorModel, View, Controller"
   ]
  },
  {
   "cell_type": "code",
   "execution_count": 5,
   "metadata": {},
   "outputs": [
    {
     "name": "stdout",
     "output_type": "stream",
     "text": [
      "<flatland.utils.graphics_pil.PILSVG object at 0x000001E6748D1128> <class 'flatland.utils.graphics_pil.PILSVG'>\n",
      "<super: <class 'PILSVG'>, <PILSVG object>> <class 'super'>\n",
      " 0000000000000000 Background_#91D1DD.svg\n",
      "WE 0000000000000100 Gleis_Deadend.svg\n",
      "WW EE NN SS 1000010000100001 Gleis_Diamond_Crossing.svg\n",
      "WW EE 0000010000000001 Gleis_horizontal.svg\n",
      "EN SW 0000100000010000 Gleis_Kurve_oben_links.svg\n",
      "WN SE 0000000001001000 Gleis_Kurve_oben_rechts.svg\n",
      "ES NW 0001001000000000 Gleis_Kurve_unten_links.svg\n",
      "NE WS 0100000000000010 Gleis_Kurve_unten_rechts.svg\n",
      "NN SS 1000000000100000 Gleis_vertikal.svg\n",
      "NN SS EE WW ES NW SE WN 1001011001101001 Weiche_Double_Slip.svg\n",
      "EE WW EN SW 0000110000010001 Weiche_horizontal_oben_links.svg\n",
      "EE WW SE WN 0000010001001001 Weiche_horizontal_oben_rechts.svg\n",
      "EE WW ES NW 0001011000000001 Weiche_horizontal_unten_links.svg\n",
      "EE WW NE WS 0100010000000011 Weiche_horizontal_unten_rechts.svg\n",
      "NN SS EE WW NW ES 1001011000100001 Weiche_Single_Slip.svg\n",
      "NE NW ES WS 0101001000000010 Weiche_Symetrical.svg\n",
      "NN SS EN SW 1000100000110000 Weiche_vertikal_oben_links.svg\n",
      "NN SS SE WN 1000000001101000 Weiche_vertikal_oben_rechts.svg\n",
      "NN SS NW ES 1001001000100000 Weiche_vertikal_unten_links.svg\n",
      "NN SS NE WS 1100000000100010 Weiche_vertikal_unten_rechts.svg\n",
      "EW 0000000100000000 Bahnhof_#d50000_Deadend_links.svg\n",
      "NS 0010000000000000 Bahnhof_#d50000_Deadend_oben.svg\n",
      "WE 0000000000000100 Bahnhof_#d50000_Deadend_rechts.svg\n",
      "SN 0000000010000000 Bahnhof_#d50000_Deadend_unten.svg\n",
      "EE WW 0000010000000001 Bahnhof_#d50000_Gleis_horizontal.svg\n",
      "NN SS 1000000000100000 Bahnhof_#d50000_Gleis_vertikal.svg\n",
      "Clear rails\n"
     ]
    },
    {
     "data": {
      "text/plain": [
       "<Figure size 432x288 with 0 Axes>"
      ]
     },
     "metadata": {},
     "output_type": "display_data"
    }
   ],
   "source": [
    "mvc = EditorMVC(sGL=\"PILSVG\" ) # sGL=\"PIL\")"
   ]
  },
  {
   "cell_type": "markdown",
   "metadata": {},
   "source": [
    "## Instructions\n",
    "- Drag to draw (improved dead-ends)\n",
    "- Shift-Drag to erase rails (erasing dead ends not yet automated - drag right across them)\n",
    "- ctrl-click to add agent\n",
    "  - direction chosen randomly to fit rail\n",
    "- ctrl-shift-click to add target for last agent\n",
    "  - target can be moved by repeating\n",
    "- to Resize the env (cannot preserve work):\n",
    "  - select \"Regen\" tab, set regen size slider, click regenerate.\n",
    "- alt-click remove all rails from cell \n"
   ]
  },
  {
   "cell_type": "code",
   "execution_count": 6,
   "metadata": {
    "scrolled": false
   },
   "outputs": [
    {
     "data": {
      "application/vnd.jupyter.widget-view+json": {
       "model_id": "0fd27ca20d9c411586c8ccae843f3950",
       "version_major": 2,
       "version_minor": 0
      },
      "text/plain": [
       "HBox(children=(Canvas(), VBox(children=(Text(value='temp.pkl', description='Filename'), Button(description='Re…"
      ]
     },
     "metadata": {},
     "output_type": "display_data"
    },
    {
     "name": "stdout",
     "output_type": "stream",
     "text": [
      "<flatland.utils.graphics_pil.PILSVG object at 0x000001E674DEF048> <class 'flatland.utils.graphics_pil.PILSVG'>\n",
      "<super: <class 'PILSVG'>, <PILSVG object>> <class 'super'>\n",
      " 0000000000000000 Background_#91D1DD.svg\n",
      "WE 0000000000000100 Gleis_Deadend.svg\n",
      "WW EE NN SS 1000010000100001 Gleis_Diamond_Crossing.svg\n",
      "WW EE 0000010000000001 Gleis_horizontal.svg\n",
      "EN SW 0000100000010000 Gleis_Kurve_oben_links.svg\n",
      "WN SE 0000000001001000 Gleis_Kurve_oben_rechts.svg\n",
      "ES NW 0001001000000000 Gleis_Kurve_unten_links.svg\n",
      "NE WS 0100000000000010 Gleis_Kurve_unten_rechts.svg\n",
      "NN SS 1000000000100000 Gleis_vertikal.svg\n",
      "NN SS EE WW ES NW SE WN 1001011001101001 Weiche_Double_Slip.svg\n",
      "EE WW EN SW 0000110000010001 Weiche_horizontal_oben_links.svg\n",
      "EE WW SE WN 0000010001001001 Weiche_horizontal_oben_rechts.svg\n",
      "EE WW ES NW 0001011000000001 Weiche_horizontal_unten_links.svg\n",
      "EE WW NE WS 0100010000000011 Weiche_horizontal_unten_rechts.svg\n",
      "NN SS EE WW NW ES 1001011000100001 Weiche_Single_Slip.svg\n",
      "NE NW ES WS 0101001000000010 Weiche_Symetrical.svg\n",
      "NN SS EN SW 1000100000110000 Weiche_vertikal_oben_links.svg\n",
      "NN SS SE WN 1000000001101000 Weiche_vertikal_oben_rechts.svg\n",
      "NN SS NW ES 1001001000100000 Weiche_vertikal_unten_links.svg\n",
      "NN SS NE WS 1100000000100010 Weiche_vertikal_unten_rechts.svg\n",
      "EW 0000000100000000 Bahnhof_#d50000_Deadend_links.svg\n",
      "NS 0010000000000000 Bahnhof_#d50000_Deadend_oben.svg\n",
      "WE 0000000000000100 Bahnhof_#d50000_Deadend_rechts.svg\n",
      "SN 0000000010000000 Bahnhof_#d50000_Deadend_unten.svg\n",
      "EE WW 0000010000000001 Bahnhof_#d50000_Gleis_horizontal.svg\n",
      "NN SS 1000000000100000 Bahnhof_#d50000_Gleis_vertikal.svg\n"
     ]
    }
   ],
   "source": [
    "mvc.view.display()"
   ]
  },
  {
   "cell_type": "code",
   "execution_count": 7,
   "metadata": {
    "scrolled": false
   },
   "outputs": [
    {
     "data": {
      "application/vnd.jupyter.widget-view+json": {
       "model_id": "e4c58e43c54847c7bc4ad0327ca506d8",
       "version_major": 2,
       "version_minor": 0
      },
      "text/plain": [
       "Output()"
      ]
     },
     "metadata": {},
     "output_type": "display_data"
    }
   ],
   "source": [
    "mvc.view.wOutput.clear_output()\n",
    "mvc.view.wOutput"
   ]
  },
  {
   "cell_type": "code",
   "execution_count": 8,
   "metadata": {},
   "outputs": [
    {
     "data": {
      "text/plain": [
       "(0, 0)"
      ]
     },
     "execution_count": 8,
     "metadata": {},
     "output_type": "execute_result"
    }
   ],
   "source": [
    "len(mvc.editor.env.agents), len(mvc.editor.env.agents_static)"
   ]
  }
 ],
 "metadata": {
  "hide_input": false,
  "kernelspec": {
   "display_name": "Python 3",
   "language": "python",
   "name": "python3"
  },
  "language_info": {
   "codemirror_mode": {
    "name": "ipython",
    "version": 3
   },
   "file_extension": ".py",
   "mimetype": "text/x-python",
   "name": "python",
   "nbconvert_exporter": "python",
   "pygments_lexer": "ipython3",
   "version": "3.6.8"
  },
  "latex_envs": {
   "LaTeX_envs_menu_present": true,
   "autoclose": false,
   "autocomplete": true,
   "bibliofile": "biblio.bib",
   "cite_by": "apalike",
   "current_citInitial": 1,
   "eqLabelWithNumbers": true,
   "eqNumInitial": 1,
   "hotkeys": {
    "equation": "Ctrl-E",
    "itemize": "Ctrl-I"
   },
   "labels_anchors": false,
   "latex_user_defs": false,
   "report_style_numbering": false,
   "user_envs_cfg": false
  },
  "toc": {
   "base_numbering": 1,
   "nav_menu": {},
   "number_sections": true,
   "sideBar": true,
   "skip_h1_title": false,
   "title_cell": "Table of Contents",
   "title_sidebar": "Contents",
   "toc_cell": false,
   "toc_position": {},
   "toc_section_display": true,
   "toc_window_display": false
  },
  "varInspector": {
   "cols": {
    "lenName": 16,
    "lenType": 16,
    "lenVar": 40
   },
   "kernels_config": {
    "python": {
     "delete_cmd_postfix": "",
     "delete_cmd_prefix": "del ",
     "library": "var_list.py",
     "varRefreshCmd": "print(var_dic_list())"
    },
    "r": {
     "delete_cmd_postfix": ") ",
     "delete_cmd_prefix": "rm(",
     "library": "var_list.r",
     "varRefreshCmd": "cat(var_dic_list()) "
    }
   },
   "types_to_exclude": [
    "module",
    "function",
    "builtin_function_or_method",
    "instance",
    "_Feature"
   ],
   "window_display": false
  }
 },
 "nbformat": 4,
 "nbformat_minor": 2
}
