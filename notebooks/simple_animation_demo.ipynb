{
 "cells": [
  {
   "cell_type": "markdown",
   "metadata": {
    "id": "G6fFcNbhYPo4"
   },
   "source": [
    "# Simple Animation Demo\n",
    "\n",
    "This notebook demostrates how Flatland can be rendered in Colab / Jupyter notebooks. There are different variants, which are implemented as examples. \n",
    "- Direct rendering, i.e. during the simulation (Flatland) \n",
    "- Indirect rendering, i.e. it is rendered in image memory and all frames are stored so that everything can then be played back using HTML / video."
   ]
  },
  {
   "cell_type": "markdown",
   "metadata": {
    "id": "JB5Le2llQTPF"
   },
   "source": [
    "Install Flatland from Source (Latest version)"
   ]
  },
  {
   "cell_type": "code",
   "execution_count": null,
   "metadata": {
    "id": "eHuje3X3bemb"
   },
   "outputs": [],
   "source": [
    "use_colab = False\n",
    "if use_colab:\n",
    "    use_pip_installer = True\n",
    "    if use_pip_installer:\n",
    "      !pip install flatland-rl &> /dev/null\n",
    "    else:\n",
    "      !git clone https://github.com/flatland-association/flatland-rl.git\n",
    "      %cd flatland-rl\n",
    "      !git pull\n",
    "      %cd ..\n",
    "      !pip install -r /content/flatland-rl/requirements_dev.txt &> /dev/null\n",
    "\n",
    "      import os\n",
    "      import sys\n",
    "      os.environ['PYTHONPATH'] = \"/env/python:/content/flatland-rl\"\n",
    "      if \"/content/flatland-rl\" not in sys.path:\n",
    "        sys.path.insert(1, \"/content/flatland-rl\")"
   ]
  },
  {
   "cell_type": "markdown",
   "metadata": {
    "id": "h2vWGApZQY89"
   },
   "source": [
    "Import Flatland"
   ]
  },
  {
   "cell_type": "code",
   "execution_count": null,
   "metadata": {
    "id": "k6t-wa1_ZYan"
   },
   "outputs": [],
   "source": [
    "# import all flatland dependance\n",
    "import time\n",
    "from flatland.core.env_observation_builder import ObservationBuilder\n",
    "from flatland.core.env_observation_builder import DummyObservationBuilder\n",
    "from flatland.envs.malfunction_generators import ParamMalfunctionGen, MalfunctionParameters\n",
    "from flatland.envs.rail_env import RailEnv\n",
    "from flatland.envs.rail_generators import sparse_rail_generator\n",
    "from flatland.utils.rendertools import RenderTool, AgentRenderVariant\n",
    "from flatland.envs.rail_env_action import RailEnvActions"
   ]
  },
  {
   "cell_type": "markdown",
   "metadata": {
    "id": "3Et-8oFWQf5X"
   },
   "source": [
    "Import and create helpful methods for rendering flatland within colab / jupyter notebooks."
   ]
  },
  {
   "cell_type": "code",
   "execution_count": null,
   "metadata": {
    "id": "jzzGznhKcWG9"
   },
   "outputs": [],
   "source": [
    "from IPython.display import HTML, display, clear_output\n",
    "import ipywidgets as ipw\n",
    "from io import BytesIO\n",
    "import PIL\n",
    "from matplotlib import pyplot as plt\n",
    "from matplotlib.animation import FuncAnimation\n",
    "import time      \n",
    "  \n",
    "def create_rendering_area():\n",
    "  rendering_area = ipw.Image()\n",
    "  display(rendering_area)\n",
    "  return rendering_area\n",
    "\n",
    "def render_env_to_image(flatland_renderer):\n",
    "  flatland_renderer.render_env(show=False, show_observations=False)\n",
    "  image = flatland_renderer.get_image()\n",
    "  return image\n",
    "\n",
    "def render_env(flatland_renderer, rendering_area : ipw.Image):\n",
    "  pil_image = PIL.Image.fromarray(render_env_to_image(flatland_renderer))\n",
    "  if rendering_area is None:\n",
    "    clear_output(wait=False)\n",
    "    display(pil_image)\n",
    "    return\n",
    "\n",
    "  # convert numpy to PIL to png-format bytes  \n",
    "  with BytesIO() as fOut:\n",
    "    pil_image.save(fOut, format=\"png\")\n",
    "    byPng = fOut.getvalue()\n",
    "      \n",
    "  # set the png bytes as the image value; \n",
    "  # this updates the image in the browser.\n",
    "  rendering_area.value=byPng\n",
    "\n",
    "def process_frames(frames, frames_per_second=1000/20):\n",
    "  dpi = 72\n",
    "  interval = frames_per_second # ms\n",
    "\n",
    "  plt.figure(figsize=(frames[0].shape[1]/dpi,frames[0].shape[0]/dpi),dpi=dpi)\n",
    "  plt.axis=('off')\n",
    "  plot = plt.imshow(frames[0])\n",
    "\n",
    "  def init():\n",
    "    pass\n",
    "\n",
    "  def update(i):\n",
    "    plot.set_data(frames[i])\n",
    "    return plot,\n",
    "\n",
    "  anim = FuncAnimation(fig=plt.gcf(),\n",
    "                      func=update,\n",
    "                      frames=len(frames),\n",
    "                      init_func=init,\n",
    "                      interval=interval,\n",
    "                      repeat=True,\n",
    "                      repeat_delay=20)\n",
    "  plt.close(anim._fig)\n",
    "  return anim\n"
   ]
  },
  {
   "cell_type": "markdown",
   "metadata": {
    "id": "tJ95mSSnQpiH"
   },
   "source": [
    "Create Flatland environment."
   ]
  },
  {
   "cell_type": "code",
   "execution_count": null,
   "metadata": {
    "id": "3XyiueT4cZLA"
   },
   "outputs": [],
   "source": [
    "def create_flatland_env(\n",
    "        obs_builder_object: ObservationBuilder,\n",
    "        max_rails_between_cities=2,\n",
    "        max_rails_in_city=4,\n",
    "        malfunction_rate=1 / 1000,\n",
    "        n_cities=5,\n",
    "        number_of_agents=10,\n",
    "        grid_width=30,\n",
    "        grid_height=40,\n",
    "        random_seed=0) -> RailEnv:\n",
    "    return RailEnv(\n",
    "        width=grid_width,\n",
    "        height=grid_height,\n",
    "        rail_generator=sparse_rail_generator(\n",
    "            max_num_cities=n_cities,\n",
    "            seed=random_seed,\n",
    "            grid_mode=True,\n",
    "            max_rails_between_cities=max_rails_between_cities,\n",
    "            max_rail_pairs_in_city=max_rails_in_city\n",
    "        ),\n",
    "        malfunction_generator=ParamMalfunctionGen(\n",
    "            MalfunctionParameters(\n",
    "                malfunction_rate=malfunction_rate, min_duration=10, max_duration=50\n",
    "            )\n",
    "        ),\n",
    "        random_seed=random_seed,\n",
    "        number_of_agents=number_of_agents,\n",
    "        obs_builder_object=obs_builder_object\n",
    "    )"
   ]
  },
  {
   "cell_type": "markdown",
   "metadata": {
    "id": "8QwM-c1JQsFE"
   },
   "source": [
    "Create a simple flatland simulation (bring it all together)."
   ]
  },
  {
   "cell_type": "code",
   "execution_count": null,
   "metadata": {
    "id": "JX5cv4PPOyp4"
   },
   "outputs": [],
   "source": [
    "def run_simulation(max_steps=50, enable_in_simulation_rendering=False):\n",
    "  env = create_flatland_env(DummyObservationBuilder())\n",
    "  \n",
    "  if enable_in_simulation_rendering:\n",
    "    rendering_area = create_rendering_area()\n",
    "  \n",
    "  env_renderer = RenderTool(env, gl=\"PILSVG\",\n",
    "                                  agent_render_variant=AgentRenderVariant.AGENT_SHOWS_OPTIONS_AND_BOX,\n",
    "                                  show_debug=True,\n",
    "                                  screen_height=750,\n",
    "                                  screen_width=750)\n",
    "  obs, info = env.reset()\n",
    "\n",
    "  offscreen_rendered_frames = []\n",
    " \n",
    "  for step in range(max_steps):\n",
    "    action_dict = dict()\n",
    "    for a in range(env.get_num_agents()):\n",
    "      action_dict.update({a: RailEnvActions.MOVE_FORWARD})\n",
    "    \n",
    "    env.step(action_dict)\n",
    "    \n",
    "    if enable_in_simulation_rendering:\n",
    "      render_env(env_renderer, rendering_area)\n",
    "    else:\n",
    "      offscreen_rendered_frames.append(render_env_to_image(env_renderer))\n",
    "\n",
    "  return offscreen_rendered_frames"
   ]
  },
  {
   "cell_type": "markdown",
   "metadata": {
    "id": "c43qWVMzQ9eF"
   },
   "source": [
    "Direct rendering during simulation runs."
   ]
  },
  {
   "cell_type": "code",
   "execution_count": null,
   "metadata": {
    "id": "_u1BLpsJRA90"
   },
   "outputs": [],
   "source": [
    "frames = run_simulation(enable_in_simulation_rendering=True)"
   ]
  },
  {
   "cell_type": "markdown",
   "metadata": {
    "id": "DRzWB4dwQ2f8"
   },
   "source": [
    "Run the simulation loop and collect frames. "
   ]
  },
  {
   "cell_type": "code",
   "execution_count": null,
   "metadata": {
    "id": "FF505lJldtb6"
   },
   "outputs": [],
   "source": [
    "frames = run_simulation()"
   ]
  },
  {
   "cell_type": "markdown",
   "metadata": {
    "id": "1RLam-chRLcb"
   },
   "source": [
    "Process the collected frames and prepare an Matplotlib animation."
   ]
  },
  {
   "cell_type": "code",
   "execution_count": null,
   "metadata": {
    "id": "vZENQSdOOvH7"
   },
   "outputs": [],
   "source": [
    "anim = process_frames(frames)"
   ]
  },
  {
   "cell_type": "markdown",
   "metadata": {
    "id": "UFk5ys3JRRu4"
   },
   "source": [
    "Render the animation."
   ]
  },
  {
   "cell_type": "code",
   "execution_count": null,
   "metadata": {
    "id": "9u2LxeZd25-Q"
   },
   "outputs": [],
   "source": [
    "display(HTML(anim.to_jshtml()))"
   ]
  }
 ],
 "metadata": {
  "colab": {
   "provenance": []
  },
  "hide_input": false,
  "kernelspec": {
   "display_name": "Python 3 (ipykernel)",
   "language": "python",
   "name": "python3"
  },
  "language_info": {
   "codemirror_mode": {
    "name": "ipython",
    "version": 3
   },
   "file_extension": ".py",
   "mimetype": "text/x-python",
   "name": "python",
   "nbconvert_exporter": "python",
   "pygments_lexer": "ipython3",
   "version": "3.7.16"
  },
  "latex_envs": {
   "LaTeX_envs_menu_present": true,
   "autoclose": false,
   "autocomplete": true,
   "bibliofile": "biblio.bib",
   "cite_by": "apalike",
   "current_citInitial": 1,
   "eqLabelWithNumbers": true,
   "eqNumInitial": 1,
   "hotkeys": {
    "equation": "Ctrl-E",
    "itemize": "Ctrl-I"
   },
   "labels_anchors": false,
   "latex_user_defs": false,
   "report_style_numbering": false,
   "user_envs_cfg": false
  },
  "toc": {
   "base_numbering": 1,
   "nav_menu": {},
   "number_sections": true,
   "sideBar": true,
   "skip_h1_title": false,
   "title_cell": "Table of Contents",
   "title_sidebar": "Contents",
   "toc_cell": false,
   "toc_position": {},
   "toc_section_display": true,
   "toc_window_display": false
  },
  "varInspector": {
   "cols": {
    "lenName": 16,
    "lenType": 16,
    "lenVar": 40
   },
   "kernels_config": {
    "python": {
     "delete_cmd_postfix": "",
     "delete_cmd_prefix": "del ",
     "library": "var_list.py",
     "varRefreshCmd": "print(var_dic_list())"
    },
    "r": {
     "delete_cmd_postfix": ") ",
     "delete_cmd_prefix": "rm(",
     "library": "var_list.r",
     "varRefreshCmd": "cat(var_dic_list()) "
    }
   },
   "types_to_exclude": [
    "module",
    "function",
    "builtin_function_or_method",
    "instance",
    "_Feature"
   ],
   "window_display": false
  }
 },
 "nbformat": 4,
 "nbformat_minor": 1
}
