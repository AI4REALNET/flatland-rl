{
  "cells": [
    {
      "cell_type": "markdown",
      "metadata": {
        "id": "G6fFcNbhYPo4"
      },
      "source": [
        "# Simple Animation Demo"
      ]
    },
    {
      "cell_type": "code",
      "source": [
        "!git clone https://github.com/hagrid67/flatland-rl.git\n",
        "%cd flatland-rl\n",
        "!git pull\n",
        "%cd ..\n",
        "!pip install -r /content/flatland-rl/requirements_dev.txt &> /dev/null"
      ],
      "metadata": {
        "colab": {
          "base_uri": "https://localhost:8080/"
        },
        "id": "eHuje3X3bemb",
        "outputId": "effeacad-7ddb-4d16-b641-bed35ce697a9"
      },
      "execution_count": 10,
      "outputs": [
        {
          "output_type": "stream",
          "name": "stdout",
          "text": [
            "fatal: destination path 'flatland-rl' already exists and is not an empty directory.\n",
            "/content/flatland-rl\n",
            "Already up to date.\n",
            "/content\n"
          ]
        }
      ]
    },
    {
      "cell_type": "code",
      "source": [
        "import os\n",
        "import sys\n",
        "os.environ['PYTHONPATH'] = \"/env/python:/content/flatland-rl\"\n",
        "if \"/content/flatland-rl\" not in sys.path:\n",
        "  sys.path.insert(1, \"/content/flatland-rl\")"
      ],
      "metadata": {
        "id": "_cDK9QYIbZ0S"
      },
      "execution_count": 11,
      "outputs": []
    },
    {
      "cell_type": "code",
      "source": [
        "# import all flatland dependance\n",
        "import time\n",
        "from flatland.core.env_observation_builder import ObservationBuilder\n",
        "from flatland.core.env_observation_builder import DummyObservationBuilder\n",
        "from flatland.envs.malfunction_generators import ParamMalfunctionGen, MalfunctionParameters\n",
        "from flatland.envs.rail_env import RailEnv\n",
        "from flatland.envs.rail_generators import sparse_rail_generator\n",
        "from flatland.utils.rendertools import RenderTool, AgentRenderVariant\n",
        "from flatland.envs.rail_env_action import RailEnvActions"
      ],
      "metadata": {
        "id": "k6t-wa1_ZYan"
      },
      "execution_count": 12,
      "outputs": []
    },
    {
      "cell_type": "code",
      "source": [
        "from IPython.display import display, clear_output\n",
        "import ipywidgets as ipw\n",
        "from io import BytesIO\n",
        "import PIL\n",
        "      \n",
        "def create_rendering_area():\n",
        "  rendering_area = ipw.Image()\n",
        "  display(rendering_area)\n",
        "  return rendering_area\n",
        "\n",
        "def render_env(flatland_renderer, rendering_area : ipw.Image):\n",
        "    flatland_renderer.render_env(show=False, show_observations=False)\n",
        "    image = flatland_renderer.get_image()\n",
        "    pil_image = PIL.Image.fromarray(image)\n",
        "    if rendering_area is None:\n",
        "      clear_output(wait=False)\n",
        "      display(pil_image)\n",
        "      return\n",
        "\n",
        "    # convert numpy to PIL to png-format bytes  \n",
        "    with BytesIO() as fOut:\n",
        "      pil_image.save(fOut, format=\"png\")\n",
        "      byPng = fOut.getvalue()\n",
        "        \n",
        "    # set the png bytes as the image value; \n",
        "    # this updates the image in the browser.\n",
        "    rendering_area.value=byPng\n",
        "    time.sleep(1.0)\n"
      ],
      "metadata": {
        "id": "jzzGznhKcWG9"
      },
      "execution_count": 13,
      "outputs": []
    },
    {
      "cell_type": "code",
      "source": [
        "def _create_flatland_env(\n",
        "        obs_builder_object: ObservationBuilder,\n",
        "        max_rails_between_cities=2,\n",
        "        max_rails_in_city=4,\n",
        "        malfunction_rate=1 / 1000,\n",
        "        n_cities=5,\n",
        "        number_of_agents=10,\n",
        "        grid_width=30,\n",
        "        grid_height=40,\n",
        "        random_seed=0) -> RailEnv:\n",
        "    return RailEnv(\n",
        "        width=grid_width,\n",
        "        height=grid_height,\n",
        "        rail_generator=sparse_rail_generator(\n",
        "            max_num_cities=n_cities,\n",
        "            seed=random_seed,\n",
        "            grid_mode=True,\n",
        "            max_rails_between_cities=max_rails_between_cities,\n",
        "            max_rail_pairs_in_city=max_rails_in_city\n",
        "        ),\n",
        "        malfunction_generator=ParamMalfunctionGen(\n",
        "            MalfunctionParameters(\n",
        "                malfunction_rate=malfunction_rate, min_duration=10, max_duration=50\n",
        "            )\n",
        "        ),\n",
        "        random_seed=random_seed,\n",
        "        number_of_agents=number_of_agents,\n",
        "        obs_builder_object=obs_builder_object\n",
        "    )"
      ],
      "metadata": {
        "id": "3XyiueT4cZLA"
      },
      "execution_count": 14,
      "outputs": []
    },
    {
      "cell_type": "code",
      "source": [
        "env = _create_flatland_env(DummyObservationBuilder())"
      ],
      "metadata": {
        "id": "dp3Vf3CPcs7m"
      },
      "execution_count": 15,
      "outputs": []
    },
    {
      "cell_type": "code",
      "source": [
        "env_renderer = RenderTool(env, gl=\"PILSVG\",\n",
        "                                  agent_render_variant=AgentRenderVariant.AGENT_SHOWS_OPTIONS_AND_BOX,\n",
        "                                  show_debug=True,\n",
        "                                  screen_height=750,\n",
        "                                  screen_width=750)"
      ],
      "metadata": {
        "id": "pn1yp6UjdJjh"
      },
      "execution_count": 16,
      "outputs": []
    },
    {
      "cell_type": "code",
      "source": [
        "obs, info = env.reset()"
      ],
      "metadata": {
        "id": "_eTgdt4odjps"
      },
      "execution_count": 17,
      "outputs": []
    },
    {
      "cell_type": "code",
      "source": [
        "rendering_area = create_rendering_area()\n",
        "for step in range(100):\n",
        "  action_dict = dict()\n",
        "  for a in range(env.get_num_agents()):\n",
        "    action_dict.update({a: RailEnvActions.MOVE_FORWARD})\n",
        "  \n",
        "  env.step(action_dict)\n",
        "\n",
        "  render_env(env_renderer, rendering_area)"
      ],
      "metadata": {
        "colab": {
          "base_uri": "https://localhost:8080/",
          "height": 939,
          "referenced_widgets": [
            "a766a090846d4849a11dff9b6991d923",
            "9ccfddd41eca4128bfc23b709e44c456"
          ]
        },
        "id": "FF505lJldtb6",
        "outputId": "539443f5-0b4d-407f-e3a5-b8e13f0c4f18"
      },
      "execution_count": 18,
      "outputs": [
        {
          "output_type": "display_data",
          "data": {
            "text/plain": [
              "Image(value=b'')"
            ],
            "application/vnd.jupyter.widget-view+json": {
              "version_major": 2,
              "version_minor": 0,
              "model_id": "a766a090846d4849a11dff9b6991d923"
            }
          },
          "metadata": {}
        },
        {
          "output_type": "error",
          "ename": "KeyboardInterrupt",
          "evalue": "ignored",
          "traceback": [
            "\u001b[0;31m---------------------------------------------------------------------------\u001b[0m",
            "\u001b[0;31mKeyboardInterrupt\u001b[0m                         Traceback (most recent call last)",
            "\u001b[0;32m<ipython-input-18-14291f577b2c>\u001b[0m in \u001b[0;36m<cell line: 2>\u001b[0;34m()\u001b[0m\n\u001b[1;32m      7\u001b[0m   \u001b[0menv\u001b[0m\u001b[0;34m.\u001b[0m\u001b[0mstep\u001b[0m\u001b[0;34m(\u001b[0m\u001b[0maction_dict\u001b[0m\u001b[0;34m)\u001b[0m\u001b[0;34m\u001b[0m\u001b[0;34m\u001b[0m\u001b[0m\n\u001b[1;32m      8\u001b[0m \u001b[0;34m\u001b[0m\u001b[0m\n\u001b[0;32m----> 9\u001b[0;31m   \u001b[0mrender_env\u001b[0m\u001b[0;34m(\u001b[0m\u001b[0menv_renderer\u001b[0m\u001b[0;34m,\u001b[0m \u001b[0mrendering_area\u001b[0m\u001b[0;34m)\u001b[0m\u001b[0;34m\u001b[0m\u001b[0;34m\u001b[0m\u001b[0m\n\u001b[0m",
            "\u001b[0;32m<ipython-input-13-a9adef356f74>\u001b[0m in \u001b[0;36mrender_env\u001b[0;34m(flatland_renderer, rendering_area)\u001b[0m\n\u001b[1;32m     26\u001b[0m     \u001b[0;31m# this updates the image in the browser.\u001b[0m\u001b[0;34m\u001b[0m\u001b[0;34m\u001b[0m\u001b[0m\n\u001b[1;32m     27\u001b[0m     \u001b[0mrendering_area\u001b[0m\u001b[0;34m.\u001b[0m\u001b[0mvalue\u001b[0m\u001b[0;34m=\u001b[0m\u001b[0mbyPng\u001b[0m\u001b[0;34m\u001b[0m\u001b[0;34m\u001b[0m\u001b[0m\n\u001b[0;32m---> 28\u001b[0;31m     \u001b[0mtime\u001b[0m\u001b[0;34m.\u001b[0m\u001b[0msleep\u001b[0m\u001b[0;34m(\u001b[0m\u001b[0;36m1.0\u001b[0m\u001b[0;34m)\u001b[0m\u001b[0;34m\u001b[0m\u001b[0;34m\u001b[0m\u001b[0m\n\u001b[0m",
            "\u001b[0;31mKeyboardInterrupt\u001b[0m: "
          ]
        }
      ]
    }
  ],
  "metadata": {
    "hide_input": false,
    "kernelspec": {
      "display_name": "Python 3",
      "language": "python",
      "name": "python3"
    },
    "language_info": {
      "codemirror_mode": {
        "name": "ipython",
        "version": 3
      },
      "file_extension": ".py",
      "mimetype": "text/x-python",
      "name": "python",
      "nbconvert_exporter": "python",
      "pygments_lexer": "ipython3",
      "version": "3.6.8"
    },
    "latex_envs": {
      "LaTeX_envs_menu_present": true,
      "autoclose": false,
      "autocomplete": true,
      "bibliofile": "biblio.bib",
      "cite_by": "apalike",
      "current_citInitial": 1,
      "eqLabelWithNumbers": true,
      "eqNumInitial": 1,
      "hotkeys": {
        "equation": "Ctrl-E",
        "itemize": "Ctrl-I"
      },
      "labels_anchors": false,
      "latex_user_defs": false,
      "report_style_numbering": false,
      "user_envs_cfg": false
    },
    "toc": {
      "base_numbering": 1,
      "nav_menu": {},
      "number_sections": true,
      "sideBar": true,
      "skip_h1_title": false,
      "title_cell": "Table of Contents",
      "title_sidebar": "Contents",
      "toc_cell": false,
      "toc_position": {},
      "toc_section_display": true,
      "toc_window_display": false
    },
    "varInspector": {
      "cols": {
        "lenName": 16,
        "lenType": 16,
        "lenVar": 40
      },
      "kernels_config": {
        "python": {
          "delete_cmd_postfix": "",
          "delete_cmd_prefix": "del ",
          "library": "var_list.py",
          "varRefreshCmd": "print(var_dic_list())"
        },
        "r": {
          "delete_cmd_postfix": ") ",
          "delete_cmd_prefix": "rm(",
          "library": "var_list.r",
          "varRefreshCmd": "cat(var_dic_list()) "
        }
      },
      "types_to_exclude": [
        "module",
        "function",
        "builtin_function_or_method",
        "instance",
        "_Feature"
      ],
      "window_display": false
    },
    "widgets": {
      "application/vnd.jupyter.widget-state+json": {
        "a766a090846d4849a11dff9b6991d923": {
          "model_module": "@jupyter-widgets/controls",
          "model_name": "ImageModel",
          "model_module_version": "1.5.0",
          "state": {
            "_dom_classes": [],
            "_model_module": "@jupyter-widgets/controls",
            "_model_module_version": "1.5.0",
            "_model_name": "ImageModel",
            "_view_count": null,
            "_view_module": "@jupyter-widgets/controls",
            "_view_module_version": "1.5.0",
            "_view_name": "ImageView",
            "format": "png",
            "height": "",
            "layout": "IPY_MODEL_9ccfddd41eca4128bfc23b709e44c456",
            "width": ""
          }
        },
        "9ccfddd41eca4128bfc23b709e44c456": {
          "model_module": "@jupyter-widgets/base",
          "model_name": "LayoutModel",
          "model_module_version": "1.2.0",
          "state": {
            "_model_module": "@jupyter-widgets/base",
            "_model_module_version": "1.2.0",
            "_model_name": "LayoutModel",
            "_view_count": null,
            "_view_module": "@jupyter-widgets/base",
            "_view_module_version": "1.2.0",
            "_view_name": "LayoutView",
            "align_content": null,
            "align_items": null,
            "align_self": null,
            "border": null,
            "bottom": null,
            "display": null,
            "flex": null,
            "flex_flow": null,
            "grid_area": null,
            "grid_auto_columns": null,
            "grid_auto_flow": null,
            "grid_auto_rows": null,
            "grid_column": null,
            "grid_gap": null,
            "grid_row": null,
            "grid_template_areas": null,
            "grid_template_columns": null,
            "grid_template_rows": null,
            "height": null,
            "justify_content": null,
            "justify_items": null,
            "left": null,
            "margin": null,
            "max_height": null,
            "max_width": null,
            "min_height": null,
            "min_width": null,
            "object_fit": null,
            "object_position": null,
            "order": null,
            "overflow": null,
            "overflow_x": null,
            "overflow_y": null,
            "padding": null,
            "right": null,
            "top": null,
            "visibility": null,
            "width": null
          }
        }
      }
    },
    "colab": {
      "provenance": []
    }
  },
  "nbformat": 4,
  "nbformat_minor": 0
}