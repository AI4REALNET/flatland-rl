{
 "cells": [
  {
   "cell_type": "markdown",
   "metadata": {},
   "source": [
    "# Jupyter Canvas Widget - Rail Editor\n",
    "\n",
    "From - https://github.com/Who8MyLunch/Jupyter_Canvas_Widget/blob/master/notebooks/example%20mouse%20events.ipynb\n",
    "Follow his instructions to do a local dev install and enable the widget."
   ]
  },
  {
   "cell_type": "markdown",
   "metadata": {},
   "source": [
    "## You need to run all cells before trying to edit the rails!"
   ]
  },
  {
   "cell_type": "code",
   "execution_count": 1,
   "metadata": {},
   "outputs": [],
   "source": [
    "%load_ext autoreload\n",
    "%autoreload 2"
   ]
  },
  {
   "cell_type": "code",
   "execution_count": 2,
   "metadata": {},
   "outputs": [],
   "source": [
    "import image_attendant as imat\n",
    "import ipywidgets\n",
    "import IPython\n",
    "import jpy_canvas\n",
    "import numpy as np\n",
    "from numpy import array\n",
    "import time\n",
    "from collections import deque\n",
    "from matplotlib import pyplot as plt\n",
    "import io\n",
    "from PIL import Image"
   ]
  },
  {
   "cell_type": "code",
   "execution_count": 52,
   "metadata": {},
   "outputs": [],
   "source": [
    "from ipywidgets import IntSlider, link, VBox, RadioButtons, HBox, interact"
   ]
  },
  {
   "cell_type": "code",
   "execution_count": 4,
   "metadata": {},
   "outputs": [],
   "source": [
    "import flatland.core.env\n",
    "from flatland.envs.rail_env import RailEnv, random_rail_generator\n",
    "from flatland.core.transitions import RailEnvTransitions\n",
    "from flatland.core.env_observation_builder import TreeObsForRailEnv\n",
    "import flatland.utils.rendertools as rt\n",
    "from flatland.utils.editor import JupEditor"
   ]
  },
  {
   "cell_type": "code",
   "execution_count": 5,
   "metadata": {},
   "outputs": [
    {
     "data": {
      "text/html": [
       "<style>.container { width:90% !important; }</style>"
      ],
      "text/plain": [
       "<IPython.core.display.HTML object>"
      ]
     },
     "metadata": {},
     "output_type": "display_data"
    }
   ],
   "source": [
    "from IPython.core.display import display, HTML\n",
    "display(HTML(\"<style>.container { width:90% !important; }</style>\"))"
   ]
  },
  {
   "cell_type": "code",
   "execution_count": 6,
   "metadata": {},
   "outputs": [],
   "source": [
    "oEnv = RailEnv(width=20,\n",
    "              height=20,\n",
    "              rail_generator=random_rail_generator(cell_type_relative_proportion=[1,1] + [0.5] * 6),\n",
    "              number_of_agents=0,\n",
    "              obs_builder_object=TreeObsForRailEnv(max_depth=2))\n",
    "obs = oEnv.reset()"
   ]
  },
  {
   "cell_type": "code",
   "execution_count": 7,
   "metadata": {},
   "outputs": [],
   "source": [
    "sfEnv = \"../flatland/env-data/tests/test1.npy\"\n",
    "if True:\n",
    "    oEnv.rail.load_transition_map(sfEnv)\n",
    "    oEnv.width = oEnv.rail.width\n",
    "    oEnv.height = oEnv.rail.height"
   ]
  },
  {
   "cell_type": "code",
   "execution_count": 8,
   "metadata": {},
   "outputs": [],
   "source": [
    "oRT = rt.RenderTool(oEnv)"
   ]
  },
  {
   "cell_type": "code",
   "execution_count": 9,
   "metadata": {},
   "outputs": [
    {
     "data": {
      "text/plain": [
       "10"
      ]
     },
     "execution_count": 9,
     "metadata": {},
     "output_type": "execute_result"
    }
   ],
   "source": [
    "oEnv.width"
   ]
  },
  {
   "cell_type": "markdown",
   "metadata": {},
   "source": [
    "### Clear the rails"
   ]
  },
  {
   "cell_type": "code",
   "execution_count": 10,
   "metadata": {},
   "outputs": [],
   "source": [
    "oEnv.rail.grid[:,:] = 0"
   ]
  },
  {
   "cell_type": "markdown",
   "metadata": {},
   "source": [
    "### Render the env in the usual way, and take an image snapshot as numpy array\n",
    "If you have already edited the env in the cell below, these changes should be reflected here."
   ]
  },
  {
   "cell_type": "code",
   "execution_count": 144,
   "metadata": {},
   "outputs": [
    {
     "name": "stdout",
     "output_type": "stream",
     "text": [
      "<class 'numpy.ndarray'>\n"
     ]
    },
    {
     "data": {
      "text/plain": [
       "<Figure size 720x720 with 0 Axes>"
      ]
     },
     "metadata": {},
     "output_type": "display_data"
    }
   ],
   "source": [
    "oFig = plt.figure(figsize=(10,10))\n",
    "oRT.renderEnv(spacing=False, arrows=False, sRailColor=\"gray\", show=False)\n",
    "img = oRT.getImage()\n",
    "print(type(img))\n",
    "plt.clf()   # if you don't want the image to appear here\n",
    "pass\n",
    "\n",
    "wid_img = jpy_canvas.Canvas(img)"
   ]
  },
  {
   "cell_type": "markdown",
   "metadata": {},
   "source": [
    "### Update the function - in case external code updated"
   ]
  },
  {
   "cell_type": "code",
   "execution_count": 156,
   "metadata": {},
   "outputs": [],
   "source": [
    "wid_img.unregister_all()\n",
    "oEditor = JupEditor(oEnv, wid_img)\n",
    "wid_img.register_move(oEditor.event_handler)\n"
   ]
  },
  {
   "cell_type": "markdown",
   "metadata": {},
   "source": [
    "### Some more widgets"
   ]
  },
  {
   "cell_type": "code",
   "execution_count": 157,
   "metadata": {},
   "outputs": [],
   "source": [
    "wid_drawMode = ipywidgets.RadioButtons(options=[\"Draw\", \"Erase\", \"Origin\", \"Destination\"])\n",
    "wid_drawMode.observe(oEditor.setDrawMode, names=\"value\")\n",
    "wid_refresh = ipywidgets.Button(description=\"Refresh\")\n",
    "wid_refresh.on_click(oEditor.redraw_event)\n",
    "wid_clear = ipywidgets.Button(description = \"Clear\")\n",
    "wid_clear.on_click(oEditor.clear)\n",
    "wid_debug = ipywidgets.Checkbox(description = \"Debug\")\n",
    "wid_debug.observe(oEditor.setDebug, names=\"value\")\n",
    "wid_output = ipywidgets.Output()\n",
    "oEditor.setOutput(wid_output)\n",
    "wid_regen = ipywidgets.Button(description = \"Regenerate\")\n",
    "wid_filename = ipywidgets.Text(description = \"Filename\")\n",
    "wid_filename.value = sfEnv\n",
    "oEditor.setFilename(sfEnv)\n",
    "wid_filename.observe(oEditor.setFilename_event, names=\"value\")\n",
    "\n",
    "wid_size = ipywidgets.IntSlider(min=5, max=30, step=5, description=\"Regen Size\")\n",
    "wid_size.observe(oEditor.setRegenSize_event, names=\"value\")\n",
    "\n",
    "\n",
    "ldButtons = [\n",
    "    dict(name = \"Refresh\", method = oEditor.redraw_event),\n",
    "    dict(name = \"Clear\", method = oEditor.clear),\n",
    "    dict(name = \"Regenerate\", method = oEditor.regenerate_event),\n",
    "    dict(name = \"Load\", method = oEditor.load),\n",
    "    dict(name = \"Save\", method = oEditor.save)\n",
    "]\n",
    "\n",
    "lwid_buttons = []\n",
    "for dButton in ldButtons:\n",
    "    wid_button = ipywidgets.Button(description = dButton[\"name\"])\n",
    "    wid_button.on_click(dButton[\"method\"])\n",
    "    lwid_buttons.append(wid_button)\n",
    "    \n",
    "\n",
    "#wid_debug = interact(oEditor.setDebug, debug=False)\n",
    "vbox_controls = VBox([wid_filename, wid_drawMode, *lwid_buttons, wid_size, wid_debug])\n"
   ]
  },
  {
   "cell_type": "markdown",
   "metadata": {},
   "source": [
    "### Edit the map below here by dragging the mouse to create transitions\n",
    "You can create a dead-end by dragging foward and backward, ie Cell A -> Adjacent Cell B -> back to Cell A"
   ]
  },
  {
   "cell_type": "code",
   "execution_count": 158,
   "metadata": {
    "scrolled": false
   },
   "outputs": [
    {
     "data": {
      "application/vnd.jupyter.widget-view+json": {
       "model_id": "2fceb907aab945788d32e2c4555d5071",
       "version_major": 2,
       "version_minor": 0
      },
      "text/plain": [
       "HBox(children=(Canvas(), VBox(children=(Text(value='../flatland/env-data/tests/test1.npy', description='Filena…"
      ]
     },
     "metadata": {},
     "output_type": "display_data"
    }
   ],
   "source": [
    "# wid_box\n",
    "wid_main = HBox([wid_img, vbox_controls])\n",
    "wid_output.clear_output()\n",
    "wid_main"
   ]
  },
  {
   "cell_type": "code",
   "execution_count": 138,
   "metadata": {
    "scrolled": false
   },
   "outputs": [
    {
     "data": {
      "application/vnd.jupyter.widget-view+json": {
       "model_id": "b9c28e5dab4e46b49ab1fb7dd9f3834b",
       "version_major": 2,
       "version_minor": 0
      },
      "text/plain": [
       "Output(outputs=({'output_type': 'stream', 'text': 'Debug: True\\n', 'name': 'stdout'},))"
      ]
     },
     "metadata": {},
     "output_type": "display_data"
    }
   ],
   "source": [
    "wid_output"
   ]
  },
  {
   "cell_type": "markdown",
   "metadata": {},
   "source": [
    "### Save the image (change the filename...)"
   ]
  },
  {
   "cell_type": "code",
   "execution_count": 15,
   "metadata": {},
   "outputs": [],
   "source": [
    "oEnv.rail.save_transition_map(\"../flatland/env-data/tests/test-editor.npy\")"
   ]
  },
  {
   "cell_type": "markdown",
   "metadata": {},
   "source": [
    "## Junk below here"
   ]
  },
  {
   "cell_type": "code",
   "execution_count": 16,
   "metadata": {},
   "outputs": [
    {
     "data": {
      "text/plain": [
       "'Draw'"
      ]
     },
     "execution_count": 16,
     "metadata": {},
     "output_type": "execute_result"
    }
   ],
   "source": [
    "wid_buttons.get_interact_value()"
   ]
  },
  {
   "cell_type": "code",
   "execution_count": 17,
   "metadata": {},
   "outputs": [],
   "source": [
    "def evListen(wid, ev):\n",
    "    x = ev[\"canvasX\"]\n",
    "    y=ev[\"canvasY\"]\n",
    "    yxBase = array([6, 21])\n",
    "    nPixCell = 35\n",
    "    rcCell = ((array([y, x]) - yxBase) / nPixCell).astype(int)\n",
    "    print(ev)\n",
    "    print(x, y, (x-21) / 35, (y-6) / 35, rcCell)"
   ]
  },
  {
   "cell_type": "code",
   "execution_count": 18,
   "metadata": {},
   "outputs": [],
   "source": [
    "# wid_img.register_click(evListen)\n",
    "#wid_img.register(evListen)"
   ]
  },
  {
   "cell_type": "code",
   "execution_count": 19,
   "metadata": {},
   "outputs": [],
   "source": [
    "#wid_img.unregister_all()"
   ]
  },
  {
   "cell_type": "code",
   "execution_count": null,
   "metadata": {},
   "outputs": [],
   "source": []
  }
 ],
 "metadata": {
  "hide_input": false,
  "kernelspec": {
   "display_name": "ve367",
   "language": "python",
   "name": "ve367"
  },
  "language_info": {
   "codemirror_mode": {
    "name": "ipython",
    "version": 3
   },
   "file_extension": ".py",
   "mimetype": "text/x-python",
   "name": "python",
   "nbconvert_exporter": "python",
   "pygments_lexer": "ipython3",
   "version": "3.6.7"
  },
  "latex_envs": {
   "LaTeX_envs_menu_present": true,
   "autoclose": false,
   "autocomplete": true,
   "bibliofile": "biblio.bib",
   "cite_by": "apalike",
   "current_citInitial": 1,
   "eqLabelWithNumbers": true,
   "eqNumInitial": 1,
   "hotkeys": {
    "equation": "Ctrl-E",
    "itemize": "Ctrl-I"
   },
   "labels_anchors": false,
   "latex_user_defs": false,
   "report_style_numbering": false,
   "user_envs_cfg": false
  },
  "toc": {
   "base_numbering": 1,
   "nav_menu": {},
   "number_sections": true,
   "sideBar": true,
   "skip_h1_title": false,
   "title_cell": "Table of Contents",
   "title_sidebar": "Contents",
   "toc_cell": false,
   "toc_position": {},
   "toc_section_display": true,
   "toc_window_display": false
  },
  "varInspector": {
   "cols": {
    "lenName": 16,
    "lenType": 16,
    "lenVar": 40
   },
   "kernels_config": {
    "python": {
     "delete_cmd_postfix": "",
     "delete_cmd_prefix": "del ",
     "library": "var_list.py",
     "varRefreshCmd": "print(var_dic_list())"
    },
    "r": {
     "delete_cmd_postfix": ") ",
     "delete_cmd_prefix": "rm(",
     "library": "var_list.r",
     "varRefreshCmd": "cat(var_dic_list()) "
    }
   },
   "types_to_exclude": [
    "module",
    "function",
    "builtin_function_or_method",
    "instance",
    "_Feature"
   ],
   "window_display": false
  }
 },
 "nbformat": 4,
 "nbformat_minor": 2
}
